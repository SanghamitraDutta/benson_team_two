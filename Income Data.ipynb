{
 "cells": [
  {
   "cell_type": "code",
   "execution_count": 1,
   "metadata": {
    "collapsed": true
   },
   "outputs": [],
   "source": [
    "import pandas as pd"
   ]
  },
  {
   "cell_type": "code",
   "execution_count": 3,
   "metadata": {
    "collapsed": false
   },
   "outputs": [],
   "source": [
    "filename = \"/Users/danielgilberg/data_science/metis/project_benson/13zpallagi.csv\"\n",
    "df = pd.read_csv(filename)\n",
    "zip_df = pd.read_csv(\"zipcodes.csv\")\n",
    "\n",
    "mask = ((df.STATE==\"NY\" ))\n",
    "df = df[mask]\n",
    "neighborhood_df = pd.merge(df, zip_df, on=\"zipcode\")\n",
    "a = neighborhood_df[[\"zipcode\", \"agi_stub\", \"N1\", \"neighborhood\"]]"
   ]
  },
  {
   "cell_type": "code",
   "execution_count": 4,
   "metadata": {
    "collapsed": false
   },
   "outputs": [
    {
     "name": "stdout",
     "output_type": "stream",
     "text": [
      "    index  zipcode                   neighborhood  avg_income_score\n",
      "0      21    10025                Upper West Side        233.716667\n",
      "1      19    10023                Upper West Side        213.666667\n",
      "2      40    10128                Upper East Side        191.983333\n",
      "3      20    10024                Upper West Side        188.833333\n",
      "4       9    10011            Chelsea and Clinton        185.200000\n",
      "5     100    11215             Northwest Brooklyn        184.716667\n",
      "6      13    10016  Gramercy Park and Murray Hill        182.433333\n",
      "7      53    10314                     Mid-Island        180.250000\n",
      "8     143    11375            West Central Queens        175.466667\n",
      "9       2    10003                Lower East Side        172.683333\n",
      "10     87    11201             Northwest Brooklyn        171.250000\n",
      "11    118    11234         Canarsie and Flatlands        170.766667\n",
      "12    147    11385            West Central Queens        163.300000\n",
      "13    120    11236         Canarsie and Flatlands        157.666667\n",
      "14     24    10028                Upper East Side        156.683333\n",
      "15     17    10021                Upper East Side        152.766667\n",
      "16    111    11226                       Flatbush        152.683333\n",
      "17     94    11209             Southwest Brooklyn        147.300000\n",
      "18    144    11377                    West Queens        144.333333\n",
      "19    141    11373                    West Queens        143.000000\n",
      "20      1    10002                Lower East Side        142.116667\n",
      "21      7    10009                Lower East Side        140.850000\n",
      "22     52    10312                    South Shore        140.133333\n",
      "23     16    10019            Chelsea and Clinton        138.400000\n",
      "24    119    11235              Southern Brooklyn        137.183333\n",
      "25    113    11229              Southern Brooklyn        134.883333\n",
      "26     66    10463      Kingsbridge and Riverdale        132.700000\n",
      "27    105    11220                    Sunset Park        131.400000\n",
      "28     18    10022  Gramercy Park and Murray Hill        130.733333\n",
      "29     65    10462                Southeast Bronx        129.233333\n",
      "..    ...      ...                            ...               ...\n",
      "45     72    10469                Northeast Bronx        108.500000\n",
      "46     25    10029                    East Harlem        108.333333\n",
      "47    106    11221      Bushwick and Williamsburg        107.316667\n",
      "48     95    11210                       Flatbush        106.550000\n",
      "49    167    11434                        Jamaica        106.216667\n",
      "50     89    11204                   Borough Park        104.900000\n",
      "51      8    10010  Gramercy Park and Murray Hill        104.150000\n",
      "52     91    11206      Bushwick and Williamsburg        102.183333\n",
      "53     97    11212               Central Brooklyn        101.600000\n",
      "54     69    10466                Northeast Bronx        100.850000\n",
      "55    110    11225                       Flatbush         99.433333\n",
      "56     38    10065                Upper East Side         99.216667\n",
      "57     23    10027                 Central Harlem         95.750000\n",
      "58     59    10456     High Bridge and Morrisania         95.350000\n",
      "59     32    10036            Chelsea and Clinton         93.833333\n",
      "60     71    10468         Bronx Park and Fordham         93.400000\n",
      "61    104    11219                   Borough Park         93.016667\n",
      "62    102    11217             Northwest Brooklyn         92.616667\n",
      "63    101    11216               Central Brooklyn         92.150000\n",
      "64    107    11222                     Greenpoint         91.616667\n",
      "65    165    11432                        Jamaica         91.383333\n",
      "66    117    11233               Central Brooklyn         91.316667\n",
      "67     56    10453                  Central Bronx         91.183333\n",
      "68     28    10032  Inwood and Washington Heights         90.800000\n",
      "69    127    11357                   North Queens         90.583333\n",
      "70    142    11374            West Central Queens         90.566667\n",
      "71     39    10075                Upper East Side         89.233333\n",
      "72     55    10452     High Bridge and Morrisania         88.933333\n",
      "73     64    10461                Southeast Bronx         88.383333\n",
      "74     76    10473                Southeast Bronx         87.633333\n",
      "\n",
      "[75 rows x 4 columns]\n"
     ]
    },
    {
     "name": "stderr",
     "output_type": "stream",
     "text": [
      "/Users/danielgilberg/anaconda/lib/python2.7/site-packages/ipykernel/__main__.py:1: SettingWithCopyWarning: \n",
      "A value is trying to be set on a copy of a slice from a DataFrame.\n",
      "Try using .loc[row_indexer,col_indexer] = value instead\n",
      "\n",
      "See the caveats in the documentation: http://pandas.pydata.org/pandas-docs/stable/indexing.html#indexing-view-versus-copy\n",
      "  if __name__ == '__main__':\n"
     ]
    }
   ],
   "source": [
    "a[\"avg_income_score\"] = (a[\"N1\"] * a[\"agi_stub\"])/100\n",
    "a = a.groupby([\"zipcode\", \"neighborhood\"], as_index=False)[\"avg_income_score\"].mean()\n",
    "\n",
    "a = a.sort_values(by=\"avg_income_score\", ascending=False).reset_index()\n",
    "\n",
    "print a.head(75)\n"
   ]
  },
  {
   "cell_type": "code",
   "execution_count": null,
   "metadata": {
    "collapsed": true
   },
   "outputs": [],
   "source": []
  }
 ],
 "metadata": {
  "anaconda-cloud": {},
  "kernelspec": {
   "display_name": "Python [default]",
   "language": "python",
   "name": "python2"
  },
  "language_info": {
   "codemirror_mode": {
    "name": "ipython",
    "version": 2
   },
   "file_extension": ".py",
   "mimetype": "text/x-python",
   "name": "python",
   "nbconvert_exporter": "python",
   "pygments_lexer": "ipython2",
   "version": "2.7.12"
  }
 },
 "nbformat": 4,
 "nbformat_minor": 1
}
